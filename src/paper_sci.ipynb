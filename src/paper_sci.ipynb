{
 "cells": [
  {
   "cell_type": "code",
   "execution_count": 1,
   "metadata": {
    "collapsed": true
   },
   "outputs": [],
   "source": [
    "import random\n",
    "import numpy as np\n",
    "import datahandler.wsdream_handler as wh\n",
    "from recommenders.irecommender import ItemBasedLSHRecommender\n",
    "from recommenders.irecommender_old import ItemBasedLSHRecommenderOld\n",
    "import json\n",
    "from matplotlib import pyplot as plt"
   ]
  },
  {
   "cell_type": "code",
   "execution_count": null,
   "metadata": {},
   "outputs": [],
   "source": [
    "def test_predict_with_matrix(seed):\n",
    "    org_data, data = wh.prepare_data(0.99, seed)\n",
    "    (num_of_users, num_of_services) = data.shape\n",
    "    test_samples = wh.prepare_test_data(num_of_users, 20, seed + 1)\n",
    "\n",
    "    recommender = ItemBasedLSHRecommender(data, num_of_functions=4, seed=(seed+2))\n",
    "    recommender.classify()\n",
    "\n",
    "    degree = 7\n",
    "\n",
    "    rmaes = np.zeros((2,degree))\n",
    "    fails = np.zeros((2, degree))\n",
    "    num_of_similar = np.zeros((2, degree))\n",
    "\n",
    "    for t in range(degree):\n",
    "        (rmaes[0][t], fails[0][t], num_of_similar[0][t]) = recommender.evaluate(data[test_samples], org_data[test_samples], t)\n",
    "        (rmaes[1][t], fails[1][t], num_of_similar[1][t]) = recommender.evaluate(data[test_samples], org_data[test_samples], threshold=0,use_transitive=True)\n",
    "        \n",
    "\n",
    "    return rmaes, fails, num_of_similar"
   ]
  },
  {
   "cell_type": "code",
   "execution_count": null,
   "metadata": {},
   "outputs": [
    {
     "name": "stderr",
     "output_type": "stream",
     "text": [
      "C:\\Users\\Yanchao\\Documents\\python\\recommender\\src\\recommenders\\irecommender.py:60: RuntimeWarning: overflow encountered in double_scalars\n",
      "  cur_val *= self.similarity_matrix[j][k]\n"
     ]
    }
   ],
   "source": [
    "def test_vary_with_threshold(times = 50, degree = 7):\n",
    "\n",
    "    rmaes = np.zeros((2, degree))\n",
    "    fails = np.zeros((2, degree))\n",
    "    num_of_similar = np.zeros((2, degree))\n",
    "\n",
    "    average_rmaes = np.zeros((times, degree))\n",
    "    average_fails = np.zeros((times, degree))\n",
    "\n",
    "    for t in range(times):\n",
    "        (_rmaes, _fails, _num_of_similar) = test_predict_with_matrix(t + 1)\n",
    "        rmaes += _rmaes\n",
    "        fails += _fails\n",
    "        num_of_similar += _num_of_similar\n",
    "        # average_rmaes[t] = rmaes/(t + 1)\n",
    "        # average_fails[t] = fails/(t + 1)\n",
    "        if (t + 1) % 10 == 0:\n",
    "            print('>')\n",
    "        else:\n",
    "            print('>', end='')\n",
    "\n",
    "    dict = {}\n",
    "    dict['rmaes'] = rmaes/times #average_rmaes.tolist()\n",
    "    dict['fails'] = fails/times #average_fails.tolist()\n",
    "    dict['num_of_similars'] = num_of_similar/times\n",
    "\n",
    "    print(dict)\n",
    "#     with open('../outputs/irecommender/similar_test_50times.json', 'w') as f:\n",
    "#         json.dump(dict, f)\n",
    "        \n",
    "test_vary_with_threshold()"
   ]
  },
  {
   "cell_type": "code",
   "execution_count": null,
   "metadata": {
    "collapsed": true
   },
   "outputs": [],
   "source": []
  }
 ],
 "metadata": {
  "kernelspec": {
   "display_name": "Python 3",
   "language": "python",
   "name": "python3"
  },
  "language_info": {
   "codemirror_mode": {
    "name": "ipython",
    "version": 3
   },
   "file_extension": ".py",
   "mimetype": "text/x-python",
   "name": "python",
   "nbconvert_exporter": "python",
   "pygments_lexer": "ipython3",
   "version": "3.6.1"
  }
 },
 "nbformat": 4,
 "nbformat_minor": 2
}
