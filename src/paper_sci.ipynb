{
 "cells": [
  {
   "cell_type": "code",
   "execution_count": 1,
   "metadata": {
    "collapsed": true
   },
   "outputs": [],
   "source": [
    "import random\n",
    "import numpy as np\n",
    "import datahandler.wsdream_handler as wh\n",
    "from recommenders.irecommender import ItemBasedLSHRecommender\n",
    "from recommenders.irecommender_old import ItemBasedLSHRecommenderOld\n",
    "import json\n",
    "from matplotlib import pyplot as plt"
   ]
  },
  {
   "cell_type": "code",
   "execution_count": 10,
   "metadata": {},
   "outputs": [],
   "source": [
    "def test_predict_with_matrix(seed):\n",
    "    org_data, data = wh.prepare_data(0.99, seed)\n",
    "    (num_of_users, num_of_services) = data.shape\n",
    "    test_samples = wh.prepare_test_data(num_of_users, 20, seed + 1)\n",
    "\n",
    "    recommender = ItemBasedLSHRecommender(data, num_of_functions=4, seed=(seed+2))\n",
    "    recommender.classify()\n",
    "\n",
    "    degree = 7\n",
    "\n",
    "    rmaes = np.zeros((2,degree))\n",
    "    fails = np.zeros((2, degree))\n",
    "    num_of_similar = np.zeros((2, degree))\n",
    "\n",
    "    for t in range(degree):\n",
    "        (rmaes[0][t], fails[0][t], num_of_similar[0][t]) = recommender.evaluate(data[test_samples], org_data[test_samples], t)\n",
    "        (rmaes[1][t], fails[1][t], num_of_similar[1][t]) = recommender.evaluate(data[test_samples], org_data[test_samples], use_transitive=True)\n",
    "        \n",
    "\n",
    "    return rmaes, fails, num_of_similar"
   ]
  },
  {
   "cell_type": "code",
   "execution_count": 11,
   "metadata": {},
   "outputs": [
    {
     "ename": "TypeError",
     "evalue": "evaluate() got an unexpected keyword argument 'use_transitive'",
     "output_type": "error",
     "traceback": [
      "\u001b[1;31m---------------------------------------------------------------------------\u001b[0m",
      "\u001b[1;31mTypeError\u001b[0m                                 Traceback (most recent call last)",
      "\u001b[1;32m<ipython-input-11-cdd9a53cbb2e>\u001b[0m in \u001b[0;36m<module>\u001b[1;34m()\u001b[0m\n\u001b[0;32m     29\u001b[0m \u001b[1;31m#         json.dump(dict, f)\u001b[0m\u001b[1;33m\u001b[0m\u001b[1;33m\u001b[0m\u001b[0m\n\u001b[0;32m     30\u001b[0m \u001b[1;33m\u001b[0m\u001b[0m\n\u001b[1;32m---> 31\u001b[1;33m \u001b[0mtest_vary_with_threshold\u001b[0m\u001b[1;33m(\u001b[0m\u001b[1;33m)\u001b[0m\u001b[1;33m\u001b[0m\u001b[0m\n\u001b[0m",
      "\u001b[1;32m<ipython-input-11-cdd9a53cbb2e>\u001b[0m in \u001b[0;36mtest_vary_with_threshold\u001b[1;34m(times, degree)\u001b[0m\n\u001b[0;32m      9\u001b[0m \u001b[1;33m\u001b[0m\u001b[0m\n\u001b[0;32m     10\u001b[0m     \u001b[1;32mfor\u001b[0m \u001b[0mt\u001b[0m \u001b[1;32min\u001b[0m \u001b[0mrange\u001b[0m\u001b[1;33m(\u001b[0m\u001b[0mtimes\u001b[0m\u001b[1;33m)\u001b[0m\u001b[1;33m:\u001b[0m\u001b[1;33m\u001b[0m\u001b[0m\n\u001b[1;32m---> 11\u001b[1;33m         \u001b[1;33m(\u001b[0m\u001b[0m_rmaes\u001b[0m\u001b[1;33m,\u001b[0m \u001b[0m_fails\u001b[0m\u001b[1;33m,\u001b[0m \u001b[0m_num_of_similar\u001b[0m\u001b[1;33m)\u001b[0m \u001b[1;33m=\u001b[0m \u001b[0mtest_predict_with_matrix\u001b[0m\u001b[1;33m(\u001b[0m\u001b[0mt\u001b[0m \u001b[1;33m+\u001b[0m \u001b[1;36m1\u001b[0m\u001b[1;33m)\u001b[0m\u001b[1;33m\u001b[0m\u001b[0m\n\u001b[0m\u001b[0;32m     12\u001b[0m         \u001b[0mrmaes\u001b[0m \u001b[1;33m+=\u001b[0m \u001b[0m_rmaes\u001b[0m\u001b[1;33m\u001b[0m\u001b[0m\n\u001b[0;32m     13\u001b[0m         \u001b[0mfails\u001b[0m \u001b[1;33m+=\u001b[0m \u001b[0m_fails\u001b[0m\u001b[1;33m\u001b[0m\u001b[0m\n",
      "\u001b[1;32m<ipython-input-10-aaa3ac8fab63>\u001b[0m in \u001b[0;36mtest_predict_with_matrix\u001b[1;34m(seed)\u001b[0m\n\u001b[0;32m     15\u001b[0m     \u001b[1;32mfor\u001b[0m \u001b[0mt\u001b[0m \u001b[1;32min\u001b[0m \u001b[0mrange\u001b[0m\u001b[1;33m(\u001b[0m\u001b[0mdegree\u001b[0m\u001b[1;33m)\u001b[0m\u001b[1;33m:\u001b[0m\u001b[1;33m\u001b[0m\u001b[0m\n\u001b[0;32m     16\u001b[0m         \u001b[1;33m(\u001b[0m\u001b[0mrmaes\u001b[0m\u001b[1;33m[\u001b[0m\u001b[1;36m0\u001b[0m\u001b[1;33m]\u001b[0m\u001b[1;33m[\u001b[0m\u001b[0mt\u001b[0m\u001b[1;33m]\u001b[0m\u001b[1;33m,\u001b[0m \u001b[0mfails\u001b[0m\u001b[1;33m[\u001b[0m\u001b[1;36m0\u001b[0m\u001b[1;33m]\u001b[0m\u001b[1;33m[\u001b[0m\u001b[0mt\u001b[0m\u001b[1;33m]\u001b[0m\u001b[1;33m,\u001b[0m \u001b[0mnum_of_similar\u001b[0m\u001b[1;33m[\u001b[0m\u001b[1;36m0\u001b[0m\u001b[1;33m]\u001b[0m\u001b[1;33m[\u001b[0m\u001b[0mt\u001b[0m\u001b[1;33m]\u001b[0m\u001b[1;33m)\u001b[0m \u001b[1;33m=\u001b[0m \u001b[0mrecommender\u001b[0m\u001b[1;33m.\u001b[0m\u001b[0mevaluate\u001b[0m\u001b[1;33m(\u001b[0m\u001b[0mdata\u001b[0m\u001b[1;33m[\u001b[0m\u001b[0mtest_samples\u001b[0m\u001b[1;33m]\u001b[0m\u001b[1;33m,\u001b[0m \u001b[0morg_data\u001b[0m\u001b[1;33m[\u001b[0m\u001b[0mtest_samples\u001b[0m\u001b[1;33m]\u001b[0m\u001b[1;33m,\u001b[0m \u001b[0mt\u001b[0m\u001b[1;33m)\u001b[0m\u001b[1;33m\u001b[0m\u001b[0m\n\u001b[1;32m---> 17\u001b[1;33m         \u001b[1;33m(\u001b[0m\u001b[0mrmaes\u001b[0m\u001b[1;33m[\u001b[0m\u001b[1;36m1\u001b[0m\u001b[1;33m]\u001b[0m\u001b[1;33m[\u001b[0m\u001b[0mt\u001b[0m\u001b[1;33m]\u001b[0m\u001b[1;33m,\u001b[0m \u001b[0mfails\u001b[0m\u001b[1;33m[\u001b[0m\u001b[1;36m1\u001b[0m\u001b[1;33m]\u001b[0m\u001b[1;33m[\u001b[0m\u001b[0mt\u001b[0m\u001b[1;33m]\u001b[0m\u001b[1;33m,\u001b[0m \u001b[0mnum_of_similar\u001b[0m\u001b[1;33m[\u001b[0m\u001b[1;36m1\u001b[0m\u001b[1;33m]\u001b[0m\u001b[1;33m[\u001b[0m\u001b[0mt\u001b[0m\u001b[1;33m]\u001b[0m\u001b[1;33m)\u001b[0m \u001b[1;33m=\u001b[0m \u001b[0mrecommender\u001b[0m\u001b[1;33m.\u001b[0m\u001b[0mevaluate\u001b[0m\u001b[1;33m(\u001b[0m\u001b[0mdata\u001b[0m\u001b[1;33m[\u001b[0m\u001b[0mtest_samples\u001b[0m\u001b[1;33m]\u001b[0m\u001b[1;33m,\u001b[0m \u001b[0morg_data\u001b[0m\u001b[1;33m[\u001b[0m\u001b[0mtest_samples\u001b[0m\u001b[1;33m]\u001b[0m\u001b[1;33m,\u001b[0m \u001b[0muse_transitive\u001b[0m\u001b[1;33m=\u001b[0m\u001b[1;32mTrue\u001b[0m\u001b[1;33m)\u001b[0m\u001b[1;33m\u001b[0m\u001b[0m\n\u001b[0m\u001b[0;32m     18\u001b[0m \u001b[1;33m\u001b[0m\u001b[0m\n\u001b[0;32m     19\u001b[0m \u001b[1;33m\u001b[0m\u001b[0m\n",
      "\u001b[1;31mTypeError\u001b[0m: evaluate() got an unexpected keyword argument 'use_transitive'"
     ]
    }
   ],
   "source": [
    "def test_vary_with_threshold(times = 50, degree = 7):\n",
    "\n",
    "    rmaes = np.zeros((2, degree))\n",
    "    fails = np.zeros((2, degree))\n",
    "    num_of_similar = np.zeros((2, degree))\n",
    "\n",
    "    average_rmaes = np.zeros((times, degree))\n",
    "    average_fails = np.zeros((times, degree))\n",
    "\n",
    "    for t in range(times):\n",
    "        (_rmaes, _fails, _num_of_similar) = test_predict_with_matrix(t + 1)\n",
    "        rmaes += _rmaes\n",
    "        fails += _fails\n",
    "        num_of_similar += _num_of_similar\n",
    "        # average_rmaes[t] = rmaes/(t + 1)\n",
    "        # average_fails[t] = fails/(t + 1)\n",
    "        if (t + 1) % 10 == 0:\n",
    "            print('>')\n",
    "        else:\n",
    "            print('>', end='')\n",
    "\n",
    "    dict = {}\n",
    "    dict['rmaes'] = rmaes/times #average_rmaes.tolist()\n",
    "    dict['fails'] = fails/times #average_fails.tolist()\n",
    "    dict['num_of_similars'] = num_of_similar/times\n",
    "\n",
    "    print(dict)\n",
    "#     with open('../outputs/irecommender/similar_test_50times.json', 'w') as f:\n",
    "#         json.dump(dict, f)\n",
    "        \n",
    "test_vary_with_threshold()"
   ]
  },
  {
   "cell_type": "code",
   "execution_count": null,
   "metadata": {
    "collapsed": true
   },
   "outputs": [],
   "source": []
  }
 ],
 "metadata": {
  "kernelspec": {
   "display_name": "Python 3",
   "language": "python",
   "name": "python3"
  },
  "language_info": {
   "codemirror_mode": {
    "name": "ipython",
    "version": 3
   },
   "file_extension": ".py",
   "mimetype": "text/x-python",
   "name": "python",
   "nbconvert_exporter": "python",
   "pygments_lexer": "ipython3",
   "version": "3.6.1"
  }
 },
 "nbformat": 4,
 "nbformat_minor": 2
}
